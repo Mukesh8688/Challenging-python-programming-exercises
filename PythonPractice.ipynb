{
 "cells": [
  {
   "cell_type": "markdown",
   "metadata": {},
   "source": [
    "## Question 1 :\n",
    "Write a program which will find all such numbers which are divisible by 7 but are not a multiple of 5,\n",
    "between 2000 and 3200 (both included).\n",
    "The numbers obtained should be printed in a comma-separated sequence on a single line."
   ]
  },
  {
   "cell_type": "code",
   "execution_count": 11,
   "metadata": {},
   "outputs": [
    {
     "name": "stdout",
     "output_type": "stream",
     "text": [
      "2002,2009,2016,2023,2037,2044,2051,2058,2072,2079,2086,2093,2107,2114,2121,2128,2142,2149,2156,2163,2177,2184,2191,2198,2212,2219,2226,2233,2247,2254,2261,2268,2282,2289,2296,2303,2317,2324,2331,2338,2352,2359,2366,2373,2387,2394,2401,2408,2422,2429,2436,2443,2457,2464,2471,2478,2492,2499,2506,2513,2527,2534,2541,2548,2562,2569,2576,2583,2597,2604,2611,2618,2632,2639,2646,2653,2667,2674,2681,2688,2702,2709,2716,2723,2737,2744,2751,2758,2772,2779,2786,2793,2807,2814,2821,2828,2842,2849,2856,2863,2877,2884,2891,2898,2912,2919,2926,2933,2947,2954,2961,2968,2982,2989,2996\n"
     ]
    }
   ],
   "source": [
    "# Q1\n",
    "# import pandas , numpy\n",
    "\n",
    "import numpy as np\n",
    "import pandas as pd\n",
    "\n",
    "result = []\n",
    "\n",
    "for i in range(2000,3001):\n",
    "    if (i%7 == 0) and (i%5 != 0):\n",
    "        result.append(str(i))\n",
    "        \n",
    "#print(\"Divisible by 7 and Not a multiple of 5 :\" , result)  \n",
    "print(\",\" .join(result))"
   ]
  },
  {
   "cell_type": "markdown",
   "metadata": {},
   "source": [
    "## Question 2 :\n",
    "Write a program which can compute the factorial of a given numbers.\n",
    "The results should be printed in a comma-separated sequence on a single line.\n",
    "Suppose the following input is supplied to the program:\n",
    "8\n",
    "Then, the output should be:\n",
    "40320 */"
   ]
  },
  {
   "cell_type": "code",
   "execution_count": 16,
   "metadata": {},
   "outputs": [
    {
     "data": {
      "text/plain": [
       "40320"
      ]
     },
     "execution_count": 16,
     "metadata": {},
     "output_type": "execute_result"
    }
   ],
   "source": [
    "# Q2\n",
    "def fact(num):\n",
    "    factNum = num\n",
    "    if (factNum == 1) or (factNum == 0):\n",
    "        factNum = 1\n",
    "    elif num > 1:\n",
    "        factNum = factNum*fact(num-1)\n",
    "    return factNum\n",
    "\n",
    "fact(8)"
   ]
  },
  {
   "cell_type": "markdown",
   "metadata": {},
   "source": [
    "## Question3 :\n",
    "With a given integral number n, write a program to generate a dictionary that contains (i, i*i) such that is an integral number between 1 and n (both included). and then the program should print the dictionary.\n",
    "Suppose the following input is supplied to the program:\n",
    "8\n",
    "Then, the output should be:\n",
    "{1: 1, 2: 4, 3: 9, 4: 16, 5: 25, 6: 36, 7: 49, 8: 64}"
   ]
  },
  {
   "cell_type": "code",
   "execution_count": 22,
   "metadata": {},
   "outputs": [
    {
     "name": "stdout",
     "output_type": "stream",
     "text": [
      "dictionary {1: 1, 2: 4, 3: 9, 4: 16, 5: 25, 6: 36, 7: 49, 8: 64, 9: 81, 10: 100}\n"
     ]
    }
   ],
   "source": [
    "# Q3\n",
    "def makedict(num):\n",
    "    if num > 1:\n",
    "        dictionary = {}\n",
    "        for i in range(1,num+1):\n",
    "            dictionary[i]=i*i    \n",
    "    else:\n",
    "         dictionary = {}\n",
    "    \n",
    "    return dictionary\n",
    "            \n",
    "print(\"dictionary\",makedict(10))            \n",
    "            "
   ]
  },
  {
   "cell_type": "markdown",
   "metadata": {},
   "source": [
    "## Question 4 :\n",
    "Write a program which accepts a sequence of comma-separated numbers from console and generate a list and a tuple which contains every number.\n",
    "Suppose the following input is supplied to the program:\n",
    "34,67,55,33,12,98\n",
    "Then, the output should be:\n",
    "['34', '67', '55', '33', '12', '98']\n",
    "('34', '67', '55', '33', '12', '98')"
   ]
  },
  {
   "cell_type": "code",
   "execution_count": 27,
   "metadata": {},
   "outputs": [
    {
     "name": "stdin",
     "output_type": "stream",
     "text": [
      "Enter number 34,65,55,33,12,98\n"
     ]
    },
    {
     "name": "stdout",
     "output_type": "stream",
     "text": [
      "List ['34', '65', '55', '33', '12', '98']\n",
      "tuple ('34', '65', '55', '33', '12', '98')\n"
     ]
    }
   ],
   "source": [
    "#Q4\n",
    "number = input(\"Enter number\")\n",
    "list_num = number.split(\",\")\n",
    "tuple_num = tuple(list_num)\n",
    "\n",
    "print(\"List\",list_num)\n",
    "print(\"tuple\",tuple_num)\n",
    "\n"
   ]
  },
  {
   "cell_type": "code",
   "execution_count": 25,
   "metadata": {},
   "outputs": [
    {
     "name": "stdout",
     "output_type": "stream",
     "text": [
      "<class 'str'>\n",
      "<class 'str'>\n",
      "<class 'str'>\n",
      "<class 'str'>\n",
      "<class 'str'>\n",
      "<class 'str'>\n"
     ]
    }
   ],
   "source": [
    "for i in list_num:\n",
    "    print(type(i))"
   ]
  },
  {
   "cell_type": "markdown",
   "metadata": {},
   "source": [
    "## Question 5:\n",
    "Define a class which has at least two methods:\n",
    "getString: to get a string from console input\n",
    "printString: to print the string in upper case.\n",
    "Also please include simple test function to test the class methods.\n",
    "\n",
    "Hints:\n",
    "Use __init__ method to construct some parameters"
   ]
  },
  {
   "cell_type": "code",
   "execution_count": 32,
   "metadata": {},
   "outputs": [
    {
     "name": "stdin",
     "output_type": "stream",
     "text": [
      "Enter String: mukesh\n"
     ]
    },
    {
     "name": "stdout",
     "output_type": "stream",
     "text": [
      "mukesh\n"
     ]
    }
   ],
   "source": [
    "#Q5\n",
    "class Myclass(object):\n",
    "    def __init__(self):\n",
    "        self.s=\"\"\n",
    "    def getString(self):\n",
    "        self.s = input(\"Enter String:\")\n",
    "    def printString(self):\n",
    "        print(self.s)\n",
    "        \n",
    "        \n",
    "myobject = Myclass()\n",
    "myobject.getString()\n",
    "myobject.printString()"
   ]
  },
  {
   "cell_type": "markdown",
   "metadata": {},
   "source": [
    "## Question 6:\n",
    "Write a program that calculates and prints the value according to the given formula:\n",
    "Q = Square root of [(2 * C * D)/H]\n",
    "Following are the fixed values of C and H:\n",
    "C is 50. H is 30.\n",
    "D is the variable whose values should be input to your program in a comma-separated sequence.\n",
    "Example\n",
    "Let us assume the following comma separated input sequence is given to the program:\n",
    "100,150,180\n",
    "The output of the program should be:\n",
    "18,22,24\n",
    "\n",
    "Hints:\n",
    "If the output received is in decimal form, it should be rounded off to its nearest value (for example, if the output received is 26.0, it should be printed as 26)\n",
    "In case of input data being supplied to the question, it should be assumed to be a console input. "
   ]
  },
  {
   "cell_type": "code",
   "execution_count": 37,
   "metadata": {},
   "outputs": [
    {
     "name": "stdin",
     "output_type": "stream",
     "text": [
      "Enter numbers: 100,150,180\n"
     ]
    },
    {
     "name": "stdout",
     "output_type": "stream",
     "text": [
      "18,22,24\n"
     ]
    }
   ],
   "source": [
    "#Q6\n",
    "\n",
    "import math\n",
    "\n",
    "C = 50 # constant variable\n",
    "H = 30  # constant variable\n",
    "\n",
    "numbers = input(\"Enter numbers:\")\n",
    "numbers = numbers.split(\",\")\n",
    "D = [ round(int(number)) for number in numbers ]\n",
    "\n",
    "result = []\n",
    "\n",
    "for i in D:\n",
    "    result.append(str(round(math.sqrt((2*C*i)/H))))\n",
    "    \n",
    "print(\",\".join(result))    "
   ]
  },
  {
   "cell_type": "code",
   "execution_count": 40,
   "metadata": {},
   "outputs": [
    {
     "name": "stdout",
     "output_type": "stream",
     "text": [
      "12,14,18\n",
      "M,u,k,e,s,h\n"
     ]
    }
   ],
   "source": [
    "a = ['12','14','18']\n",
    "\n",
    "b = 'Mukesh'\n",
    "\n",
    "print(\",\".join(a))\n",
    "\n",
    "print(\",\".join(b))"
   ]
  },
  {
   "cell_type": "markdown",
   "metadata": {},
   "source": [
    "## Question 7:\n",
    "Write a program which takes 2 digits, X,Y as input and generates a 2-dimensional array. The element value in the i-th row and j-th column of the array should be i*j.\n",
    "Note: i=0,1.., X-1; j=0,1,¡­Y-1.\n",
    "Example\n",
    "Suppose the following inputs are given to the program:\n",
    "3,5\n",
    "Then, the output of the program should be:\n",
    "[[0, 0, 0, 0, 0], [0, 1, 2, 3, 4], [0, 2, 4, 6, 8]] \n",
    "\n",
    "Hints:\n",
    "Note: In case of input data being supplied to the question, it should be assumed to be a console input in a comma-separated form.\n"
   ]
  },
  {
   "cell_type": "code",
   "execution_count": 48,
   "metadata": {},
   "outputs": [
    {
     "name": "stdin",
     "output_type": "stream",
     "text": [
      "Enter Both X,Y : 3,5\n"
     ]
    },
    {
     "name": "stdout",
     "output_type": "stream",
     "text": [
      "[[0 0 0 0 0]\n",
      " [0 1 2 3 4]\n",
      " [0 2 4 6 8]]\n"
     ]
    }
   ],
   "source": [
    "# Q7\n",
    "\n",
    "import numpy as np\n",
    "\n",
    "string_num = input(\"Enter Both X,Y :\")\n",
    "X,Y = string_num.split(\",\")\n",
    "\n",
    "X = int(X)\n",
    "Y= int(Y)\n",
    "\n",
    "\n",
    "array_2d = np.zeros((3,5),dtype =int)\n",
    "\n",
    "for i in range(X):\n",
    "    for j in range(Y):\n",
    "        array_2d[i][j] = i*j\n",
    "\n",
    "\n",
    "print(array_2d)"
   ]
  },
  {
   "cell_type": "markdown",
   "metadata": {},
   "source": [
    "## Question 8:\n",
    "Write a program that accepts a comma separated sequence of words as input and prints the words in a comma-separated sequence after sorting them alphabetically.\n",
    "Suppose the following input is supplied to the program:\n",
    "without,hello,bag,world\n",
    "Then, the output should be:\n",
    "bag,hello,without,world"
   ]
  },
  {
   "cell_type": "code",
   "execution_count": 3,
   "metadata": {},
   "outputs": [
    {
     "name": "stdin",
     "output_type": "stream",
     "text": [
      "Enter words: without,hello,bag,world\n"
     ]
    },
    {
     "name": "stdout",
     "output_type": "stream",
     "text": [
      "['bag', 'hello', 'without', 'world']\n"
     ]
    }
   ],
   "source": [
    "#Q8\n",
    "\n",
    "words = input(\"Enter words:\")\n",
    "words = words.split(\",\")\n",
    "print(sorted(words))\n"
   ]
  },
  {
   "cell_type": "code",
   "execution_count": 5,
   "metadata": {},
   "outputs": [
    {
     "name": "stdin",
     "output_type": "stream",
     "text": [
      " without,hello,bag,world\n"
     ]
    },
    {
     "name": "stdout",
     "output_type": "stream",
     "text": [
      "bag,hello,without,world\n"
     ]
    }
   ],
   "source": [
    "#Q8\n",
    "\n",
    "items = [ x for x in input().split(\",\")]\n",
    "items.sort()\n",
    "print( \",\".join(items))"
   ]
  },
  {
   "cell_type": "markdown",
   "metadata": {},
   "source": [
    "## Question 9 \n",
    "Write a program that accepts sequence of lines as input and prints the lines after making all characters in the sentence capitalized.\n",
    "- Suppose the following input is supplied to the program:\n",
    "Hello world\n",
    "Practice makes perfect\n",
    "- Then, the output should be:\n",
    "HELLO WORLD\n",
    "PRACTICE MAKES PERFECT"
   ]
  },
  {
   "cell_type": "code",
   "execution_count": 12,
   "metadata": {},
   "outputs": [
    {
     "name": "stdin",
     "output_type": "stream",
     "text": [
      "Enter your sentance:\n",
      " Hello world Practice makes perfect\n"
     ]
    },
    {
     "name": "stdout",
     "output_type": "stream",
     "text": [
      " Capitilize all characters:\n",
      " HELLO WORLD PRACTICE MAKES PERFECT\n"
     ]
    }
   ],
   "source": [
    "#Q9\n",
    "\n",
    "sentances = input(\"Enter your sentance:\\n\")\n",
    "\n",
    "sentances = sentances.split()\n",
    "\n",
    "sentances = [sentance.upper() for sentance in sentances]\n",
    "\n",
    "print(\" Capitilize all characters:\\n\", \" \".join(sentances))\n"
   ]
  },
  {
   "cell_type": "code",
   "execution_count": 14,
   "metadata": {},
   "outputs": [
    {
     "name": "stdin",
     "output_type": "stream",
     "text": [
      "Enter your sentance:\n",
      " Hello world Practice makes perfect\n"
     ]
    },
    {
     "name": "stdout",
     "output_type": "stream",
     "text": [
      "HELLO WORLD PRACTICE MAKES PERFECT\n"
     ]
    }
   ],
   "source": [
    "#Q9\n",
    "sentances = input(\"Enter your sentance:\\n\")\n",
    "print(sentances.upper())"
   ]
  },
  {
   "cell_type": "code",
   "execution_count": 17,
   "metadata": {},
   "outputs": [
    {
     "name": "stdin",
     "output_type": "stream",
     "text": [
      " Hello\n",
      " world\n",
      " Practice\n",
      " makes\n",
      " perfect\n",
      " \n"
     ]
    },
    {
     "name": "stdout",
     "output_type": "stream",
     "text": [
      "HELLO\n",
      "WORLD\n",
      "PRACTICE\n",
      "MAKES\n",
      "PERFECT\n"
     ]
    }
   ],
   "source": [
    "#Q9\n",
    "\n",
    "lines =[]\n",
    "\n",
    "while True:\n",
    "    \n",
    "    s = input()\n",
    "    if s:\n",
    "        lines.append(s.upper())\n",
    "    else:\n",
    "        break\n",
    "        \n",
    "for line in lines:\n",
    "    print(line)"
   ]
  },
  {
   "cell_type": "markdown",
   "metadata": {},
   "source": [
    "## Question 10 :\n",
    "Write a program that accepts a sequence of whitespace separated words as input and prints the words after removing all duplicate words and sorting them alphanumerically.\n",
    "- Suppose the following input is supplied to the program:\n",
    "hello world and practice makes perfect and hello world again\n",
    "Then, the output should be:\n",
    "again and hello makes perfect practice world\n",
    "\n",
    "Hints:\n",
    "In case of input data being supplied to the question, it should be assumed to be a console input.\n",
    "We use set container to remove duplicated data automatically and then use sorted() to sort the data.\n"
   ]
  },
  {
   "cell_type": "code",
   "execution_count": 31,
   "metadata": {},
   "outputs": [
    {
     "name": "stdin",
     "output_type": "stream",
     "text": [
      "Enter Sentance:\n",
      " hello world and practice makes perfect and hello world again\n"
     ]
    },
    {
     "name": "stdout",
     "output_type": "stream",
     "text": [
      "again and hello makes perfect practice world\n"
     ]
    }
   ],
   "source": [
    "#Q10\n",
    "\n",
    "sentances = input(\"Enter Sentance:\\n\").split()\n",
    "sentances = sorted(set(sentances))\n",
    "#sentances = sorted(list(sentances))\n",
    "#sentances = list(sentances)\n",
    "#sentances.sort()\n",
    "print(\" \" .join(sentances))"
   ]
  },
  {
   "cell_type": "markdown",
   "metadata": {},
   "source": [
    "## Question 11:\n",
    "Write a program which accepts a sequence of comma separated 4 digit binary numbers as its input and then check whether they are divisible by 5 or not. The numbers that are divisible by 5 are to be printed in a comma separated sequence.\n",
    "- Example:\n",
    "0100,0011,1010,1001\n",
    "Then the output should be:\n",
    "1010\n",
    "Notes: Assume the data is input by console."
   ]
  },
  {
   "cell_type": "code",
   "execution_count": 33,
   "metadata": {},
   "outputs": [
    {
     "name": "stdin",
     "output_type": "stream",
     "text": [
      "Enter Binary numbers:\n",
      "  0100,0011,1010,1001,2000,3030,3003,33333\n"
     ]
    },
    {
     "name": "stdout",
     "output_type": "stream",
     "text": [
      "100 1010 2000 3030\n"
     ]
    }
   ],
   "source": [
    "#Q11\n",
    "\n",
    "binary = input(\"Enter Binary numbers:\\n\").split(\",\") # Enter sequence of comma separated\n",
    "\n",
    "binary = [ int(x) for x in binary]\n",
    "\n",
    "result = []\n",
    "\n",
    "for i in binary:\n",
    "    if i%5==0:\n",
    "        result.append(str(i))\n",
    "        \n",
    "print(\" \".join(result))    "
   ]
  },
  {
   "cell_type": "markdown",
   "metadata": {},
   "source": [
    "## Question 12 :\n",
    "Write a program, which will find all such numbers between 1000 and 3000 (both included) such that each digit of the number is an even number.\n",
    "The numbers obtained should be printed in a comma-separated sequence on a single line.\n",
    "\n",
    "Hints:\n",
    "In case of input data being supplied to the question, it should be assumed to be a console input."
   ]
  },
  {
   "cell_type": "code",
   "execution_count": 41,
   "metadata": {},
   "outputs": [
    {
     "name": "stdout",
     "output_type": "stream",
     "text": [
      "2000,2002,2004,2006,2008,2020,2022,2024,2026,2028,2040,2042,2044,2046,2048,2060,2062,2064,2066,2068,2080,2082,2084,2086,2088,2200,2202,2204,2206,2208,2220,2222,2224,2226,2228,2240,2242,2244,2246,2248,2260,2262,2264,2266,2268,2280,2282,2284,2286,2288,2400,2402,2404,2406,2408,2420,2422,2424,2426,2428,2440,2442,2444,2446,2448,2460,2462,2464,2466,2468,2480,2482,2484,2486,2488,2600,2602,2604,2606,2608,2620,2622,2624,2626,2628,2640,2642,2644,2646,2648,2660,2662,2664,2666,2668,2680,2682,2684,2686,2688,2800,2802,2804,2806,2808,2820,2822,2824,2826,2828,2840,2842,2844,2846,2848,2860,2862,2864,2866,2868,2880,2882,2884,2886,2888\n"
     ]
    }
   ],
   "source": [
    "#Q12\n",
    "\n",
    "result =[]\n",
    "flag = True\n",
    "\n",
    "for i in range(1000,3001):\n",
    "    flag = True\n",
    "    for j in str(i):\n",
    "        if int(j)%2!=0:\n",
    "            flag = False\n",
    "            break\n",
    "       \n",
    "            \n",
    "    if flag == True:\n",
    "        result.append(str(i))\n",
    "            \n",
    "print(\",\".join(result))            \n",
    "    "
   ]
  },
  {
   "cell_type": "markdown",
   "metadata": {},
   "source": [
    "## Question 13\n",
    "Level 2\n",
    "\n",
    "Question:\n",
    "Write a program that accepts a sentence and calculate the number of letters and digits.\n",
    "Suppose the following input is supplied to the program:\n",
    "hello world! 123\n",
    "Then, the output should be:\n",
    "LETTERS 10\n",
    "DIGITS 3\n",
    "\n",
    "Hints:\n",
    "In case of input data being supplied to the question, it should be assumed to be a console input."
   ]
  },
  {
   "cell_type": "code",
   "execution_count": 4,
   "metadata": {},
   "outputs": [
    {
     "name": "stdin",
     "output_type": "stream",
     "text": [
      "Enter Your sentance:\n",
      " hello world! 123\n"
     ]
    },
    {
     "name": "stdout",
     "output_type": "stream",
     "text": [
      "LETTERS 10 DIGITS 3\n"
     ]
    }
   ],
   "source": [
    "# Q13\n",
    "\n",
    "sentances = input(\"Enter Your sentance:\\n\")\n",
    "\n",
    "LETTERS = 0\n",
    "DIGITS = 0\n",
    "\n",
    "for chars in sentances:\n",
    "    if chars.isdigit():\n",
    "        DIGITS +=1\n",
    "    elif chars.isalpha():\n",
    "        LETTERS +=1\n",
    "        \n",
    "print(f\"LETTERS {LETTERS} DIGITS {DIGITS}\")        "
   ]
  },
  {
   "cell_type": "markdown",
   "metadata": {},
   "source": [
    "## Question 14\n",
    "Level 2\n",
    "\n",
    "Question:\n",
    "Write a program that accepts a sentence and calculate the number of upper case letters and lower case letters.\n",
    "Suppose the following input is supplied to the program:\n",
    "Hello world!\n",
    "Then, the output should be:\n",
    "UPPER CASE 1\n",
    "LOWER CASE 9\n",
    "\n",
    "Hints:\n",
    "In case of input data being supplied to the question, it should be assumed to be a console input."
   ]
  },
  {
   "cell_type": "code",
   "execution_count": 3,
   "metadata": {},
   "outputs": [
    {
     "name": "stdin",
     "output_type": "stream",
     "text": [
      "Enter sentence:\n",
      " Hello world!\n"
     ]
    },
    {
     "name": "stdout",
     "output_type": "stream",
     "text": [
      " UPPER CASE 1 LOWER CASE 9\n"
     ]
    }
   ],
   "source": [
    "#Q14\n",
    "\n",
    "sentences = input(\"Enter sentence:\\n\")\n",
    "\n",
    "upper_case = 0\n",
    "lower_case = 0\n",
    "for char in sentences:\n",
    "    if char.isalpha():\n",
    "        if char.isupper():\n",
    "            upper_case +=1\n",
    "        elif char.islower():\n",
    "            lower_case +=1\n",
    "\n",
    "print(f\" UPPER CASE {upper_case} LOWER CASE {lower_case}\")            "
   ]
  },
  {
   "cell_type": "code",
   "execution_count": 4,
   "metadata": {},
   "outputs": [
    {
     "name": "stdin",
     "output_type": "stream",
     "text": [
      "Enter sentences:\n",
      " Hello world!\n"
     ]
    },
    {
     "name": "stdout",
     "output_type": "stream",
     "text": [
      "UPPER CASE 1\n",
      "LOWER CASE 9\n"
     ]
    }
   ],
   "source": [
    "#Q14\n",
    "\n",
    "sentences = input(\"Enter sentences:\\n\")\n",
    "\n",
    "d = {\"UPPER CASE\":0,\"LOWER CASE\":0}\n",
    "\n",
    "for char in sentences:\n",
    "    if char.isupper():\n",
    "        d['UPPER CASE'] +=1\n",
    "    elif char.islower():\n",
    "        d['LOWER CASE'] +=1\n",
    "    else:\n",
    "        pass\n",
    "\n",
    "    \n",
    "print(\"UPPER CASE\",d['UPPER CASE'])\n",
    "print(\"LOWER CASE\",d['LOWER CASE'])\n",
    "        "
   ]
  },
  {
   "cell_type": "markdown",
   "metadata": {},
   "source": [
    "## Question 15\n",
    "Level 2\n",
    "\n",
    "Question:\n",
    "Write a program that computes the value of a+aa+aaa+aaaa with a given digit as the value of a.\n",
    "Suppose the following input is supplied to the program:\n",
    "9\n",
    "Then, the output should be:\n",
    "11106\n",
    "\n",
    "Hints:\n",
    "In case of input data being supplied to the question, it should be assumed to be a console input."
   ]
  },
  {
   "cell_type": "code",
   "execution_count": 5,
   "metadata": {},
   "outputs": [
    {
     "name": "stdin",
     "output_type": "stream",
     "text": [
      "Enter computes value:\n",
      " 9\n"
     ]
    },
    {
     "ename": "ValueError",
     "evalue": "invalid literal for int() with base 10: 'a'",
     "output_type": "error",
     "traceback": [
      "\u001b[0;31m---------------------------------------------------------------------------\u001b[0m",
      "\u001b[0;31mValueError\u001b[0m                                Traceback (most recent call last)",
      "\u001b[0;32m<ipython-input-5-d207bf191523>\u001b[0m in \u001b[0;36m<module>\u001b[0;34m\u001b[0m\n\u001b[1;32m      5\u001b[0m \u001b[0mstrings\u001b[0m\u001b[0;34m.\u001b[0m\u001b[0mreplace\u001b[0m\u001b[0;34m(\u001b[0m\u001b[0;34m'a'\u001b[0m\u001b[0;34m,\u001b[0m\u001b[0;34m'values'\u001b[0m\u001b[0;34m)\u001b[0m\u001b[0;34m\u001b[0m\u001b[0;34m\u001b[0m\u001b[0m\n\u001b[1;32m      6\u001b[0m \u001b[0;34m\u001b[0m\u001b[0m\n\u001b[0;32m----> 7\u001b[0;31m \u001b[0mstrings\u001b[0m \u001b[0;34m=\u001b[0m \u001b[0;34m[\u001b[0m \u001b[0mint\u001b[0m\u001b[0;34m(\u001b[0m\u001b[0mstring\u001b[0m\u001b[0;34m)\u001b[0m \u001b[0;32mfor\u001b[0m \u001b[0mstring\u001b[0m \u001b[0;32min\u001b[0m \u001b[0mstrings\u001b[0m\u001b[0;34m.\u001b[0m\u001b[0msplit\u001b[0m\u001b[0;34m(\u001b[0m\u001b[0;34m\"+\"\u001b[0m\u001b[0;34m)\u001b[0m\u001b[0;34m]\u001b[0m\u001b[0;34m\u001b[0m\u001b[0;34m\u001b[0m\u001b[0m\n\u001b[0m\u001b[1;32m      8\u001b[0m \u001b[0;34m\u001b[0m\u001b[0m\n\u001b[1;32m      9\u001b[0m \u001b[0mtotal\u001b[0m \u001b[0;34m=\u001b[0m \u001b[0;36m0\u001b[0m\u001b[0;34m\u001b[0m\u001b[0;34m\u001b[0m\u001b[0m\n",
      "\u001b[0;32m<ipython-input-5-d207bf191523>\u001b[0m in \u001b[0;36m<listcomp>\u001b[0;34m(.0)\u001b[0m\n\u001b[1;32m      5\u001b[0m \u001b[0mstrings\u001b[0m\u001b[0;34m.\u001b[0m\u001b[0mreplace\u001b[0m\u001b[0;34m(\u001b[0m\u001b[0;34m'a'\u001b[0m\u001b[0;34m,\u001b[0m\u001b[0;34m'values'\u001b[0m\u001b[0;34m)\u001b[0m\u001b[0;34m\u001b[0m\u001b[0;34m\u001b[0m\u001b[0m\n\u001b[1;32m      6\u001b[0m \u001b[0;34m\u001b[0m\u001b[0m\n\u001b[0;32m----> 7\u001b[0;31m \u001b[0mstrings\u001b[0m \u001b[0;34m=\u001b[0m \u001b[0;34m[\u001b[0m \u001b[0mint\u001b[0m\u001b[0;34m(\u001b[0m\u001b[0mstring\u001b[0m\u001b[0;34m)\u001b[0m \u001b[0;32mfor\u001b[0m \u001b[0mstring\u001b[0m \u001b[0;32min\u001b[0m \u001b[0mstrings\u001b[0m\u001b[0;34m.\u001b[0m\u001b[0msplit\u001b[0m\u001b[0;34m(\u001b[0m\u001b[0;34m\"+\"\u001b[0m\u001b[0;34m)\u001b[0m\u001b[0;34m]\u001b[0m\u001b[0;34m\u001b[0m\u001b[0;34m\u001b[0m\u001b[0m\n\u001b[0m\u001b[1;32m      8\u001b[0m \u001b[0;34m\u001b[0m\u001b[0m\n\u001b[1;32m      9\u001b[0m \u001b[0mtotal\u001b[0m \u001b[0;34m=\u001b[0m \u001b[0;36m0\u001b[0m\u001b[0;34m\u001b[0m\u001b[0;34m\u001b[0m\u001b[0m\n",
      "\u001b[0;31mValueError\u001b[0m: invalid literal for int() with base 10: 'a'"
     ]
    }
   ],
   "source": [
    "# Q15\n",
    "\n",
    "values = input(\"Enter computes value:\\n\")\n",
    "strings = 'a+aa+aaa+aaaa'\n",
    "strings.replace('a','values')\n",
    "\n",
    "strings = [ int(string) for string in strings.split(\"+\")]\n",
    "\n",
    "total = 0\n",
    "\n",
    "for item in strings:\n",
    "    total += item\n",
    "    \n",
    "print(\"Total Value :\",total)    \n"
   ]
  },
  {
   "cell_type": "code",
   "execution_count": 8,
   "metadata": {},
   "outputs": [
    {
     "name": "stdin",
     "output_type": "stream",
     "text": [
      "Enter computes value:\n",
      " 9\n"
     ]
    },
    {
     "name": "stdout",
     "output_type": "stream",
     "text": [
      "a+aa+aaa+aaaa\n"
     ]
    }
   ],
   "source": [
    "values = input(\"Enter computes value:\\n\")\n",
    "strings = 'a+aa+aaa+aaaa'\n",
    "strings.replace('a','b')\n",
    "\n",
    "print(strings)"
   ]
  },
  {
   "cell_type": "code",
   "execution_count": 17,
   "metadata": {},
   "outputs": [
    {
     "name": "stdin",
     "output_type": "stream",
     "text": [
      " 9\n"
     ]
    },
    {
     "name": "stdout",
     "output_type": "stream",
     "text": [
      "11106\n"
     ]
    }
   ],
   "source": [
    "#Q15\n",
    "\n",
    "\n",
    "a = input()\n",
    "n1 = int( \"%s\" % a )\n",
    "n2 = int( \"%s%s\" % (a,a) )\n",
    "n3 = int( \"%s%s%s\" % (a,a,a) )\n",
    "n4 = int( \"%s%s%s%s\" % (a,a,a,a) )\n",
    "\n",
    "\n",
    "print(n1+n2+n3+n4)"
   ]
  },
  {
   "cell_type": "markdown",
   "metadata": {},
   "source": [
    "## Question 16\n",
    "Level 2\n",
    "\n",
    "Question:\n",
    "Use a list comprehension to square each odd number in a list. The list is input by a sequence of comma-separated numbers.\n",
    "Suppose the following input is supplied to the program:\n",
    "1,2,3,4,5,6,7,8,9\n",
    "Then, the output should be:\n",
    "1,3,5,7,9\n",
    "\n",
    "Hints:\n",
    "In case of input data being supplied to the question, it should be assumed to be a console input.\n"
   ]
  },
  {
   "cell_type": "code",
   "execution_count": 21,
   "metadata": {},
   "outputs": [
    {
     "name": "stdin",
     "output_type": "stream",
     "text": [
      "Enter sequence :\n",
      " 1,2,3,4,5,6,7,8,9\n"
     ]
    },
    {
     "name": "stdout",
     "output_type": "stream",
     "text": [
      "[1, 3, 5, 7, 9]\n"
     ]
    }
   ],
   "source": [
    "# Q16\n",
    "\n",
    "list_1 = input(\"Enter sequence :\\n\") # 1,2,3,4,5,6,7,8,9\n",
    "\n",
    "list_2 = [ int(x) for x in list_1.split(\",\")]\n",
    "\n",
    "for item in list_2:\n",
    "    if item%2==0:\n",
    "        list_2.remove(item)\n",
    "        \n",
    "print(list_2)     "
   ]
  },
  {
   "cell_type": "markdown",
   "metadata": {},
   "source": [
    "## Question 17\n",
    "Level 2\n",
    "\n",
    "Question:\n",
    "Write a program that computes the net amount of a bank account based a transaction log from console input. The transaction log format is shown as following:\n",
    "D 100\n",
    "W 200\n",
    "\n",
    "D means deposit while W means withdrawal.\n",
    "Suppose the following input is supplied to the program:\n",
    "D 300\n",
    "D 300\n",
    "W 200\n",
    "D 100\n",
    "Then, the output should be:\n",
    "500\n",
    "\n",
    "Hints:\n",
    "In case of input data being supplied to the question, it should be assumed to be a console input."
   ]
  },
  {
   "cell_type": "code",
   "execution_count": 13,
   "metadata": {},
   "outputs": [
    {
     "name": "stdin",
     "output_type": "stream",
     "text": [
      "Enter log:\n",
      " D 300 D 300 W 200 D 100 W 200\n"
     ]
    },
    {
     "name": "stdout",
     "output_type": "stream",
     "text": [
      "['D', '300', 'D', '300', 'W', '200', 'D', '100', 'W', '200']\n",
      "Total balance: 300\n"
     ]
    }
   ],
   "source": [
    "#Q17\n",
    "\n",
    "transaction = input(\"Enter log:\\n\") # input should be like comma-seperated sequence D 300 D 300 W 200 D 100\n",
    "\n",
    "transactions = transaction.split(\" \")\n",
    "\n",
    "print(transactions)\n",
    "\n",
    "deposit = []\n",
    "withdraw = []\n",
    "\n",
    "for i,t in enumerate(transactions):\n",
    "        if t.isalpha():\n",
    "            if t.upper() =='D':\n",
    "                #print(int(transactions[i+1]))\n",
    "                deposit.append(int(transactions[i+1]))\n",
    "            elif t.upper() =='W':\n",
    "                withdraw.append(int(transactions[i+1]))\n",
    "                #print(int(transactions[i+1]))\n",
    "                     \n",
    "        elif t.isnumeric():\n",
    "            continue\n",
    "            \n",
    "total_bal = sum(deposit)-sum(withdraw)\n",
    "\n",
    "print(\"Total balance:\",total_bal)\n",
    "        "
   ]
  },
  {
   "cell_type": "code",
   "execution_count": 17,
   "metadata": {},
   "outputs": [
    {
     "name": "stdin",
     "output_type": "stream",
     "text": [
      "Enter log: d 300\n",
      "Enter log: w200\n"
     ]
    },
    {
     "name": "stdout",
     "output_type": "stream",
     "text": [
      "It's not proper log\n"
     ]
    },
    {
     "name": "stdin",
     "output_type": "stream",
     "text": [
      "Enter log: w 200\n",
      "Enter log: 100\n"
     ]
    },
    {
     "name": "stdout",
     "output_type": "stream",
     "text": [
      "It's not proper log\n"
     ]
    },
    {
     "name": "stdin",
     "output_type": "stream",
     "text": [
      "Enter log: D 200\n",
      "Enter log: \n"
     ]
    },
    {
     "name": "stdout",
     "output_type": "stream",
     "text": [
      "total_amount: 300\n"
     ]
    }
   ],
   "source": [
    "# Q17 if input like \n",
    "# D 100\n",
    "# W 100\n",
    "# D 300\n",
    "\n",
    "\n",
    "net_bal = 0\n",
    "\n",
    "while True:\n",
    "    trans = input(\"Enter log:\")\n",
    "    if not trans:\n",
    "        break\n",
    "    trans = trans.split(\" \")\n",
    "    code = trans[0]\n",
    " \n",
    "    if code.upper() =='D':\n",
    "        net_bal += int(trans[1])\n",
    "    elif code.upper() == 'W':\n",
    "        net_bal -= int(trans[1])\n",
    "    else:\n",
    "        print(\"It's not proper log\")\n",
    "\n",
    "print(\"total_amount:\",net_bal)        "
   ]
  },
  {
   "cell_type": "markdown",
   "metadata": {},
   "source": [
    "## Question 18\n",
    "Level 3\n",
    "\n",
    "Question:\n",
    "A website requires the users to input username and password to register. Write a program to check the validity of password input by users.\n",
    "Following are the criteria for checking the password:\n",
    "1. At least 1 letter between [a-z]\n",
    "2. At least 1 number between [0-9]\n",
    "1. At least 1 letter between [A-Z]\n",
    "3. At least 1 character from [$#@]\n",
    "4. Minimum length of transaction password: 6\n",
    "5. Maximum length of transaction password: 12\n",
    "Your program should accept a sequence of comma separated passwords and will check them according to the above criteria. Passwords that match the criteria are to be printed, each separated by a comma.\n",
    "Example\n",
    "If the following passwords are given as input to the program:\n",
    "ABd1234@1,a F1#,2w3E*,2We3345\n",
    "Then, the output of the program should be:\n",
    "ABd1234@1\n",
    "\n",
    "Hints:\n",
    "In case of input data being supplied to the question, it should be assumed to be a console input.\n"
   ]
  },
  {
   "cell_type": "code",
   "execution_count": 27,
   "metadata": {},
   "outputs": [
    {
     "name": "stdin",
     "output_type": "stream",
     "text": [
      "Enter Your password: ABd1234@1\n"
     ]
    },
    {
     "name": "stdout",
     "output_type": "stream",
     "text": [
      "Password should have all char\n",
      "Password should have all char\n",
      "Password should have all char\n",
      "Password should have all char\n",
      "Password should have all char\n",
      "Password should have all char\n",
      "Password should have all char\n",
      "ABd1234@1\n",
      "ABd1234@1\n",
      "Password should have all char\n",
      "Password should have all char\n",
      "Password should have all char\n",
      "Password should have all char\n",
      "ABd1234@1\n",
      "ABd1234@1\n",
      "Password should have all char\n",
      "Password should have all char\n",
      "Password should have all char\n",
      "Password should have all char\n",
      "ABd1234@1\n",
      "ABd1234@1\n",
      "Password should have all char\n",
      "Password should have all char\n",
      "Password should have all char\n",
      "Password should have all char\n",
      "ABd1234@1\n",
      "ABd1234@1\n",
      "Password should have all char\n",
      "Password should have all char\n",
      "Password should have all char\n"
     ]
    }
   ],
   "source": [
    "#Q18\n",
    "\n",
    "password = input(\"Enter Your password:\")\n",
    "\n",
    "length = len(password)\n",
    "\n",
    "if (length >=6) and (length <= 12):\n",
    "    for i in password:\n",
    "        if i.isupper():\n",
    "            for j in password:\n",
    "                if j.islower():\n",
    "                    for k in password:\n",
    "                        if k.isnumeric():\n",
    "                            print(password)\n",
    "                        else:\n",
    "                            print(\"Password should have all char\")\n",
    "                            break\n",
    "                elif j.isnumeric():\n",
    "                    for k in password:\n",
    "                        if k.islower():\n",
    "                            print(password)\n",
    "                        else:\n",
    "                            print(\"Password should have all char\")\n",
    "                            break\n",
    "                    \n",
    "                else:\n",
    "                    print(\"Password should have all char\")\n",
    "                    break\n",
    "        elif i.islower():\n",
    "             for j in password:\n",
    "                if j.isupper():\n",
    "                    for k in password:\n",
    "                        if k.isnumeric():\n",
    "                            print(password)\n",
    "                        else:\n",
    "                            print(\"Password should have all char\")\n",
    "                            break\n",
    "                elif j.isnumeric():\n",
    "                    for k in password:\n",
    "                        if k.isupper():\n",
    "                            print(password)\n",
    "                        else:\n",
    "                            print(\"Password should have all char\")\n",
    "                            break\n",
    "                    \n",
    "                else:\n",
    "                    print(\"Password should have all char\")\n",
    "                    break\n",
    "            \n",
    "        elif i.isnumeric():\n",
    "             for j in password:\n",
    "                if j.islower():\n",
    "                    for k in password:\n",
    "                        if k.isupper():\n",
    "                            print(password)\n",
    "                        else:\n",
    "                            print(\"Password should have all char\")\n",
    "                            break\n",
    "                elif j.isupper():\n",
    "                      for k in password:\n",
    "                        if k.islower():\n",
    "                            print(password)\n",
    "                        else:\n",
    "                            print(\"Password should have all char\")\n",
    "                            break\n",
    "                    \n",
    "                else:\n",
    "                    print(\"Password should have all char\")\n",
    "                    break\n",
    "            \n",
    "        else:\n",
    "            print(\"Password should have all char\")\n",
    "            break"
   ]
  },
  {
   "cell_type": "code",
   "execution_count": 35,
   "metadata": {},
   "outputs": [
    {
     "name": "stdin",
     "output_type": "stream",
     "text": [
      "Enter Your password: AB1234@1\n"
     ]
    },
    {
     "name": "stdout",
     "output_type": "stream",
     "text": [
      "Reenter Password:\n"
     ]
    },
    {
     "name": "stdin",
     "output_type": "stream",
     "text": [
      "Enter Your password: ABd1234@1\n"
     ]
    },
    {
     "name": "stdout",
     "output_type": "stream",
     "text": [
      "Correct Password\n"
     ]
    }
   ],
   "source": [
    "check = True\n",
    "while check:\n",
    "    \n",
    "    password = input(\"Enter Your password:\")\n",
    "\n",
    "    length = len(password)\n",
    "    upper = False \n",
    "    lower = False\n",
    "    numeric = False\n",
    "\n",
    "    if (length >=6) and (length <= 12):\n",
    "        for i in password:\n",
    "            if i.isupper():\n",
    "                upper =True\n",
    "            elif i.islower():\n",
    "                lower = True  \n",
    "            elif i.isnumeric():\n",
    "                numeric = True\n",
    "         \n",
    "    \n",
    "        if (upper == True) and (lower == True) and (numeric  == True) :\n",
    "            print(\"Correct Password\")\n",
    "            check = False\n",
    "        else:\n",
    "            print(\"Reenter Password:\")\n",
    "            check = True\n",
    "            "
   ]
  },
  {
   "cell_type": "code",
   "execution_count": 49,
   "metadata": {},
   "outputs": [
    {
     "name": "stdin",
     "output_type": "stream",
     "text": [
      "Enter Sequence:\n",
      " ABd1234@1,a F1#,2w3E*,2We3345\n"
     ]
    },
    {
     "name": "stdout",
     "output_type": "stream",
     "text": [
      "['ABd1234@1', 'a F1#', '2w3E*', '2We3345']\n",
      "ABd1234@1\n"
     ]
    }
   ],
   "source": [
    "# Q18\n",
    "\n",
    "import re\n",
    "\n",
    "value = []\n",
    "\n",
    "items = input(\"Enter Sequence:\\n\")\n",
    "\n",
    "items = items.split(\",\")\n",
    "\n",
    "print(items)\n",
    "\n",
    "for item in items:\n",
    "    if (len(item) < 6) or (len(item) > 12):\n",
    "        continue\n",
    "    else:\n",
    "        pass\n",
    "    if not re.search(\"[a-z]\",item):\n",
    "        continue\n",
    "    elif not re.search(\"[A-Z]\",item):\n",
    "        continue   \n",
    "    elif not re.search(\"[0-9]\",item):\n",
    "        continue  \n",
    "    elif not re.search(\"[$#@]\",item):\n",
    "        continue   \n",
    "    else:\n",
    "        pass\n",
    "    \n",
    "    value.append(item)\n",
    "    \n",
    "print( \",\".join(value))\n",
    "\n"
   ]
  },
  {
   "cell_type": "code",
   "execution_count": 51,
   "metadata": {},
   "outputs": [
    {
     "name": "stdout",
     "output_type": "stream",
     "text": [
      "Number is 0\n",
      "Number is 1\n",
      "Number is 2\n",
      "Number is 3\n",
      "Number is 4\n",
      "Number is 6\n",
      "Number is 7\n",
      "Out of loop\n"
     ]
    }
   ],
   "source": [
    "# example of continue , break and pass \n",
    "number = 0\n",
    "\n",
    "for number in range(10):\n",
    "    if number == 5:\n",
    "        continue # pass here\n",
    "        print(\"Mukesh\")\n",
    "    elif number == 8:\n",
    "        break\n",
    "    elif number == 3:\n",
    "        pass\n",
    "\n",
    "    print('Number is ' + str(number))\n",
    "\n",
    "print('Out of loop')"
   ]
  },
  {
   "cell_type": "markdown",
   "metadata": {},
   "source": [
    "## Question 19\n",
    "Level 3\n",
    "\n",
    "Question:\n",
    "You are required to write a program to sort the (name, age, height) tuples by ascending order where name is string, age and height are numbers. The tuples are input by console. The sort criteria is:\n",
    "1: Sort based on name;\n",
    "2: Then sort based on age;\n",
    "3: Then sort by score.\n",
    "The priority is that name > age > score.\n",
    "- If the following tuples are given as input to the program:\n",
    "   - Tom,19,80\n",
    "   - John,20,90\n",
    "   - Jony,17,91\n",
    "   - Jony,17,93\n",
    "   - Json,21,85\n",
    "Then, the output of the program should be:\n",
    "\n",
    "- [('John', '20', '90'), ('Jony', '17', '91'), ('Jony', '17', '93'), ('Json', '21', '85'), ('Tom', '19', '80')]\n",
    "\n",
    "Hints:\n",
    "In case of input data being supplied to the question, it should be assumed to be a console input.\n",
    "We use itemgetter to enable multiple sort keys.\n"
   ]
  },
  {
   "cell_type": "code",
   "execution_count": 65,
   "metadata": {},
   "outputs": [
    {
     "name": "stdin",
     "output_type": "stream",
     "text": [
      "Enter name,age,height:\n",
      " Tom,14,98\n",
      "Enter name,age,height:\n",
      " John,13,90\n",
      "Enter name,age,height:\n",
      " John,13,85\n",
      "Enter name,age,height:\n",
      " \n"
     ]
    },
    {
     "name": "stdout",
     "output_type": "stream",
     "text": [
      "[('John', '13', '85'), ('John', '13', '90'), ('Tom', '14', '98')]\n"
     ]
    }
   ],
   "source": [
    "from operator import itemgetter\n",
    "result = []\n",
    "\n",
    "flag = True\n",
    "\n",
    "while flag:\n",
    "    words = input(\"Enter name,age,height:\\n\")\n",
    "    if words:\n",
    "        words = words.split(\",\")\n",
    "        result.append(tuple(words))\n",
    "        flag = True\n",
    "    else:\n",
    "        flag = False\n",
    "        \n",
    "print(sorted(result,key = itemgetter(0,1,2)))        \n",
    "    \n",
    "#print(tuple(result.sort()))    "
   ]
  },
  {
   "cell_type": "markdown",
   "metadata": {},
   "source": [
    "\n",
    "Question 20\n",
    "Level 3\n",
    "\n",
    "Question:\n",
    "Define a class with a generator which can iterate the numbers, which are divisible by 7, between a given range 0 and n.\n",
    "\n",
    "Hints:\n",
    "Consider use yield"
   ]
  },
  {
   "cell_type": "code",
   "execution_count": 68,
   "metadata": {},
   "outputs": [
    {
     "data": {
      "text/plain": [
       "[0, 7, 14, 21, 28, 35, 42, 49, 56, 63, 70, 77, 84, 91, 98]"
      ]
     },
     "execution_count": 68,
     "metadata": {},
     "output_type": "execute_result"
    }
   ],
   "source": [
    "#Q20\n",
    "\n",
    "def generate(n):\n",
    "    i=0\n",
    "    while i<n:\n",
    "        j = i\n",
    "        i = i+1\n",
    "        if j%7==0:\n",
    "            yield j\n",
    "\n",
    "list(generate(100))\n",
    "            \n",
    "#for i in generate(100):\n",
    "#    print(i)"
   ]
  },
  {
   "cell_type": "code",
   "execution_count": 71,
   "metadata": {},
   "outputs": [
    {
     "name": "stdout",
     "output_type": "stream",
     "text": [
      "1\n",
      "2\n",
      "3\n"
     ]
    }
   ],
   "source": [
    "# yield\n",
    "\n",
    "def simplegen():\n",
    "    yield 1\n",
    "    yield 2\n",
    "    yield 3\n",
    "    \n",
    "for i in simplegen():\n",
    "    print(i)"
   ]
  },
  {
   "cell_type": "code",
   "execution_count": null,
   "metadata": {},
   "outputs": [],
   "source": []
  }
 ],
 "metadata": {
  "kernelspec": {
   "display_name": "Python 3",
   "language": "python",
   "name": "python3"
  },
  "language_info": {
   "codemirror_mode": {
    "name": "ipython",
    "version": 3
   },
   "file_extension": ".py",
   "mimetype": "text/x-python",
   "name": "python",
   "nbconvert_exporter": "python",
   "pygments_lexer": "ipython3",
   "version": "3.7.4"
  }
 },
 "nbformat": 4,
 "nbformat_minor": 4
}
